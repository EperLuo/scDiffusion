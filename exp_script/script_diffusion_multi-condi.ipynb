{
 "cells": [
  {
   "cell_type": "code",
   "execution_count": 11,
   "metadata": {},
   "outputs": [],
   "source": [
    "'''\n",
    "This script is to decode the generated latent embedding of multi-condition data and evaluate them\n",
    "Be careful to change all the path that appear to your own\n",
    "'''"
   ]
  },
  {
   "cell_type": "code",
   "execution_count": 1,
   "metadata": {},
   "outputs": [],
   "source": [
    "import os\n",
    "os.environ['CUDA_VISIBLE_DEVICES'] = '1'\n",
    "\n",
    "import anndata as ad\n",
    "import scanpy as sc\n",
    "import matplotlib.pyplot as plt\n",
    "import numpy as np\n",
    "import pandas as pd\n",
    "import random\n",
    "from scipy import stats\n",
    "import torch\n",
    "import sys\n",
    "sys.path.append('..')\n",
    "from VAE.VAE_model import VAE\n",
    "import celltypist\n",
    "import seaborn as sns  \n",
    "from statannotations.Annotator import Annotator"
   ]
  },
  {
   "cell_type": "code",
   "execution_count": 4,
   "metadata": {},
   "outputs": [],
   "source": [
    "def load_VAE():\n",
    "    autoencoder = VAE(\n",
    "        num_genes=14652,\n",
    "        device='cuda',\n",
    "        seed=0,\n",
    "        loss_ae='mse',\n",
    "        hidden_dim=128,\n",
    "        decoder_activation='ReLU',\n",
    "    )\n",
    "    autoencoder.load_state_dict(torch.load('/data1/lep/Workspace/guided-diffusion/VAE/checkpoint/muris_ood_scimilarity_lognorm_finetune/model_seed=0_step=150000.pt'))\n",
    "    return autoencoder"
   ]
  },
  {
   "cell_type": "markdown",
   "metadata": {},
   "source": [
    "real data"
   ]
  },
  {
   "cell_type": "code",
   "execution_count": 5,
   "metadata": {},
   "outputs": [
    {
     "data": {
      "text/plain": [
       "(11330, 14652)"
      ]
     },
     "execution_count": 5,
     "metadata": {},
     "output_type": "execute_result"
    }
   ],
   "source": [
    "# real data in h5ad format\n",
    "adata = sc.read_h5ad('/data1/lep/Workspace/guided-diffusion/data/tabula_muris/mam_spl_T_B.h5ad')\n",
    "sc.pp.filter_genes(adata, min_cells=3)\n",
    "sc.pp.filter_cells(adata, min_genes=10)\n",
    "adata.var_names_make_unique()\n",
    "\n",
    "gene_names = adata.var_names\n",
    "cellclass = adata.obs['celltype']\n",
    "organtype = adata.obs['organ']\n",
    "celltype = [cellclass[i]+'_'+organtype[i] for i in range(len(cellclass))]\n",
    "adata.obs['cellinfo'] = celltype\n",
    "\n",
    "sc.pp.normalize_total(adata, target_sum=1e4)\n",
    "sc.pp.log1p(adata)\n",
    "\n",
    "cell_data = adata.X.toarray()\n",
    "\n",
    "cell_data.shape"
   ]
  },
  {
   "cell_type": "markdown",
   "metadata": {},
   "source": [
    "generated data"
   ]
  },
  {
   "cell_type": "code",
   "execution_count": 6,
   "metadata": {},
   "outputs": [
    {
     "data": {
      "text/plain": [
       "(2000, 14652)"
      ]
     },
     "execution_count": 6,
     "metadata": {},
     "output_type": "execute_result"
    }
   ],
   "source": [
    "cell_gen_all = []\n",
    "gen_class = []\n",
    "\n",
    "cato = ['mam_B', 'mam_T', 'spl_T', 'spl_B']\n",
    "type = ['B cell', 'T cell']\n",
    "organ = ['mammary', 'spleen']\n",
    "nums = [0]\n",
    "\n",
    "autoencoder = load_VAE()\n",
    "count = 0\n",
    "# generated mammary data, mammary B cells and mammary T cells\n",
    "for i in range(2):\n",
    "    for j in [0]:\n",
    "        npzfile=np.load(f'/data1/lep/Workspace/guided-diffusion/output/ood_muris/muris_filted_{i}_{j}_scimilarity2.npz',allow_pickle=True)\n",
    "        num = 1000\n",
    "        cell_gen_all.append(npzfile['cell_gen'][:num])\n",
    "        gen_class += ['gen_'+type[i]+'_'+organ[j]] * num\n",
    "        count+=num\n",
    "        nums.append(count)\n",
    "\n",
    "cell_gen_all = np.concatenate(cell_gen_all)\n",
    "cell_gen_all = autoencoder(torch.tensor(cell_gen_all).cuda(),return_decoded=True).detach().cpu().numpy()\n",
    "adata_gen = ad.AnnData(cell_gen_all)\n",
    "adata_gen.obs['celltype'] = gen_class\n",
    "\n",
    "\n",
    "ori = ad.AnnData(cell_gen_all, dtype=np.float32)#[::2]\n",
    "\n",
    "ori.obs['celltype'] = gen_class#[::2]\n",
    "ori.var_names = gene_names\n",
    "\n",
    "cell_gen = ori.X\n",
    "\n",
    "cell_gen.shape"
   ]
  },
  {
   "cell_type": "markdown",
   "metadata": {},
   "source": [
    "marker gene significance test"
   ]
  },
  {
   "cell_type": "code",
   "execution_count": 10,
   "metadata": {},
   "outputs": [],
   "source": [
    "adata_tmp = adata[adata.obs['organ']=='mammary']\n",
    "real_cell = adata_tmp[adata_tmp.obs['cellinfo']=='B cell_mammary'].X.toarray()\n",
    "other_cell = adata_tmp[adata_tmp.obs['cellinfo']!='B cell_mammary'].X.toarray()\n",
    "sample_size = min(real_cell.shape[0],other_cell.shape[0])\n",
    "real_cell, other_cell = real_cell[:sample_size], other_cell[:sample_size]\n",
    "gen_cell = ori[ori.obs['celltype']=='gen_B cell_mammary'].X[:sample_size]\n",
    "cell_type = ['2_real']*real_cell.shape[0]+['1_other']*other_cell.shape[0]+['3_generated']*gen_cell.shape[0]\n",
    "all_cell = np.concatenate((real_cell,other_cell,gen_cell),axis=0)\n",
    "adata_new = ad.AnnData(all_cell)\n",
    "adata_new.var_names = gene_names\n",
    "adata_new.obs['cell_type'] = cell_type"
   ]
  },
  {
   "cell_type": "code",
   "execution_count": 11,
   "metadata": {},
   "outputs": [],
   "source": [
    "gene_name = 'Cd74' #'Cd79a'\n",
    "data = {'group':adata_new.obs['cell_type'],\n",
    "        gene_name :adata_new[:,gene_name].X.toarray().squeeze(-1)}\n",
    "df = pd.DataFrame(data)"
   ]
  },
  {
   "cell_type": "code",
   "execution_count": 12,
   "metadata": {},
   "outputs": [
    {
     "name": "stdout",
     "output_type": "stream",
     "text": [
      "1_other vs. 2_real: Wilcoxon test (paired samples), P_val:2.076e-127 Stat=5.550e+02\n",
      "1_other vs. 3_generated: Wilcoxon test (paired samples), P_val:7.056e-129 Stat=7.000e+01\n"
     ]
    },
    {
     "data": {
      "text/plain": [
       "(<Axes: xlabel='group', ylabel='Cd74'>,\n",
       " [<statannotations.Annotation.Annotation at 0x7fe078024f40>,\n",
       "  <statannotations.Annotation.Annotation at 0x7fe0780243a0>])"
      ]
     },
     "execution_count": 12,
     "metadata": {},
     "output_type": "execute_result"
    },
    {
     "data": {
      "image/png": "[encoded data removed]",
      "text/plain": [
       "<Figure size 640x480 with 1 Axes>"
      ]
     },
     "metadata": {},
     "output_type": "display_data"
    }
   ],
   "source": [
    "plt.rcParams['pdf.fonttype'] = 42\n",
    "plt.rcParams['ps.fonttype'] = 42\n",
    "\n",
    "x = \"group\"\n",
    "y = gene_name\n",
    "order = ['1_other', '2_real', '3_generated']\n",
    "\n",
    "ax = sns.boxplot(data=df, x=x, y=y, order=order)\n",
    "\n",
    "pairs=[('1_other', '2_real'), ('1_other', '3_generated')]\n",
    "\n",
    "annotator = Annotator(ax, pairs, data=df, x=x, y=y, order=order)\n",
    "annotator.configure(test='Wilcoxon', text_format='simple', loc='outside')\n",
    "annotator.apply_and_annotate()\n",
    "# plt.savefig(f'../figure_pdf_new/{gene_name}_boxplot.pdf', dpi=300, bbox_inches='tight')"
   ]
  },
  {
   "cell_type": "markdown",
   "metadata": {},
   "source": [
    "celltypist test"
   ]
  },
  {
   "cell_type": "code",
   "execution_count": 13,
   "metadata": {},
   "outputs": [
    {
     "name": "stderr",
     "output_type": "stream",
     "text": [
      "⚠️ Warning: invalid expression matrix, expect all genes and log1p normalized expression to 10000 counts per cell. The prediction result may not be accurate\n",
      "🔬 Input data has 1000 cells and 14652 genes\n",
      "🔗 Matching reference genes in the model\n",
      "🧬 14228 features used for prediction\n",
      "⚖️ Scaling input data\n",
      "🖋️ Predicting labels\n",
      "✅ Prediction done!\n"
     ]
    },
    {
     "name": "stdout",
     "output_type": "stream",
     "text": [
      "0.989\n"
     ]
    }
   ],
   "source": [
    "mam_B = ori[ori.obs['celltype']=='gen_B cell_mammary'].copy()\n",
    "\n",
    "predictions = celltypist.annotate(mam_B, model = '/data1/lep/Workspace/guided-diffusion/checkpoint_old/celltypist_muris_mam_re.pkl')\n",
    "print((predictions.predicted_labels.squeeze(1).values == 'B cell').sum()/mam_B.X.shape[0])"
   ]
  },
  {
   "cell_type": "code",
   "execution_count": 15,
   "metadata": {},
   "outputs": [
    {
     "name": "stderr",
     "output_type": "stream",
     "text": [
      "🔬 Input data has 127 cells and 15818 genes\n",
      "🔗 Matching reference genes in the model\n",
      "🧬 15776 features used for prediction\n",
      "⚖️ Scaling input data\n",
      "🖋️ Predicting labels\n",
      "✅ Prediction done!\n"
     ]
    },
    {
     "name": "stdout",
     "output_type": "stream",
     "text": [
      "0.9133858267716536\n"
     ]
    }
   ],
   "source": [
    "testset = sc.read_h5ad('/data1/lep/Workspace/guided-diffusion/data/testset_muris_mam.h5ad')\n",
    "testset = testset[testset.obs['celltype']=='B cell']\n",
    "predictions = celltypist.annotate(testset, model = '/data1/lep/Workspace/guided-diffusion/checkpoint_old/celltypist_muris_mam_re.pkl')\n",
    "print((predictions.predicted_labels.squeeze(1).values == 'B cell').sum()/testset.X.shape[0])"
   ]
  }
 ],
 "metadata": {
  "kernelspec": {
   "display_name": "pytorch",
   "language": "python",
   "name": "python3"
  },
  "language_info": {
   "codemirror_mode": {
    "name": "ipython",
    "version": 3
   },
   "file_extension": ".py",
   "mimetype": "text/x-python",
   "name": "python",
   "nbconvert_exporter": "python",
   "pygments_lexer": "ipython3",
   "version": "3.8.13"
  },
  "orig_nbformat": 4
 },
 "nbformat": 4,
 "nbformat_minor": 2
}
